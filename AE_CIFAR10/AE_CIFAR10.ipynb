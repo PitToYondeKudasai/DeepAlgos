{
 "cells": [
  {
   "cell_type": "code",
   "execution_count": null,
   "metadata": {
    "id": "66p1mtD2yLO_"
   },
   "outputs": [],
   "source": [
    "# -*- coding: utf-8 -*-\n",
    "##########################\n",
    "## Autoencoder CIFAR-10 ##\n",
    "##########################\n",
    "import torch\n",
    "import torch.nn as nn\n",
    "import torchvision as tv\n",
    "import torchvision.transforms as transforms\n",
    "from torch.autograd import Variable"
   ]
  },
  {
   "cell_type": "code",
   "execution_count": null,
   "metadata": {
    "id": "NxuCqS6W4JI0"
   },
   "outputs": [],
   "source": [
    "import numpy as np\n",
    "import matplotlib.pyplot as plt"
   ]
  },
  {
   "cell_type": "code",
   "execution_count": null,
   "metadata": {
    "colab": {
     "base_uri": "https://localhost:8080/",
     "height": 154,
     "referenced_widgets": [
      "7797711621b645698805371cff79c632",
      "d39975a59202488893cdecdd0d0e567c",
      "759aacb5b8c1415e9bf994206fe3edae",
      "d24f06141a174b8f8920a2c317dcc16b",
      "7a6379e421db4af0aac23e35d42a7062",
      "6896a0a416c34f3aa9236ae84b5321b5",
      "6ac148dae737461ab8044923c3137746",
      "165e56afc84a46cbba1011571b63671b"
     ]
    },
    "id": "DxT8fE_oyTA2",
    "outputId": "7fd823ac-ae68-42a7-e889-f30524955881"
   },
   "outputs": [],
   "source": [
    "config = dict(\n",
    "  num_epochs = 10,\n",
    "  batch_size = 32,\n",
    "  weight_decay = 1e-5,\n",
    "  )\n",
    "\n",
    "transform = transforms.Compose(\n",
    "    [transforms.ToTensor(),\n",
    "     transforms.Normalize((0.5, 0.5, 0.5), (0.5, 0.5, 0.5))])\n",
    "\n",
    "trainset = tv.datasets.CIFAR10(root = './data', train = True, download = True, transform = transform)\n",
    "\n",
    "dataloader = torch.utils.data.DataLoader(trainset, batch_size = config['batch_size'], shuffle = False, num_workers = 4)"
   ]
  },
  {
   "cell_type": "code",
   "execution_count": null,
   "metadata": {
    "id": "9oDOn2v_yXS0"
   },
   "outputs": [],
   "source": [
    "# Autoencoder class\n",
    "class Autoencoder(nn.Module):\n",
    "  def __init__(self):\n",
    "    super(Autoencoder, self).__init__()\n",
    "    # Encoder\n",
    "    self.encoder = nn.Sequential(\n",
    "        nn.Conv2d(3,6, kernel_size = 3),\n",
    "        nn.LeakyReLU(inplace = True),\n",
    "        nn.Conv2d(6,4, kernel_size = 3),\n",
    "        nn.LeakyReLU(inplace = True),\n",
    "        nn.Conv2d(4,3, kernel_size = 3),\n",
    "        nn.LeakyReLU(inplace = True),\n",
    "    )\n",
    "    # Decoder\n",
    "    self.decoder = nn.Sequential(\n",
    "        nn.ConvTranspose2d(3,4, kernel_size = 3),\n",
    "        nn.LeakyReLU(inplace = True),\n",
    "        nn.ConvTranspose2d(4,6, kernel_size = 3),\n",
    "        nn.LeakyReLU(inplace = True),\n",
    "        nn.ConvTranspose2d(6,3, kernel_size = 3),\n",
    "        nn.LeakyReLU(inplace = True)\n",
    "    )\n",
    "    \n",
    "  def forward(self, x):\n",
    "    x = self.encoder(x)\n",
    "    x = self.decoder(x)\n",
    "    return x\n"
   ]
  },
  {
   "cell_type": "code",
   "execution_count": null,
   "metadata": {
    "id": "gLwY-fMcycJf"
   },
   "outputs": [],
   "source": [
    "model = Autoencoder().cpu()\n",
    "distance = nn.MSELoss()\n",
    "optimizer = torch.optim.Adam(model.parameters(), lr = 0.001, weight_decay = config['weight_decay'])"
   ]
  },
  {
   "cell_type": "code",
   "execution_count": null,
   "metadata": {
    "colab": {
     "base_uri": "https://localhost:8080/",
     "height": 506
    },
    "id": "67hiN4Wgyevr",
    "outputId": "60ccb669-8db3-4bfe-ebb5-cb321d7dba77"
   },
   "outputs": [],
   "source": [
    "losses = []\n",
    "for epoch in range(config['num_epochs']):\n",
    "    for data in dataloader:\n",
    "        img, _ = data\n",
    "        img = Variable(img).cpu()\n",
    "        # Forward step\n",
    "        output = model(img)\n",
    "        loss = distance(output, img)\n",
    "        losses.append(loss.item())\n",
    "        # Backward step\n",
    "        optimizer.zero_grad()\n",
    "        loss.backward()\n",
    "        optimizer.step()\n",
    "\n",
    "    print('epoch [{}/{}], loss:{:.4f}'.format(epoch + 1, config['num_epochs'], loss.item()))\n",
    "\n",
    "import matplotlib.pyplot as plt\n",
    "plt.plot(losses)"
   ]
  },
  {
   "cell_type": "code",
   "execution_count": null,
   "metadata": {
    "colab": {
     "base_uri": "https://localhost:8080/",
     "height": 305
    },
    "id": "5cG_0sr24XXS",
    "outputId": "9233ede1-17e6-4463-dc44-9261ab73bde8"
   },
   "outputs": [],
   "source": [
    "plt.plot(losses)\n",
    "plt.title('Loss during training', fontsize=20)\n",
    "plt.ylabel('Loss', fontsize=15)\n",
    "plt.xlabel('Batches', fontsize=15)\n",
    "plt.savefig('loss.png')"
   ]
  },
  {
   "cell_type": "code",
   "execution_count": null,
   "metadata": {
    "colab": {
     "base_uri": "https://localhost:8080/"
    },
    "id": "LZlqPVqs6_p2",
    "outputId": "ace15073-427c-4f3b-e22a-70c14ac0c7bb"
   },
   "outputs": [],
   "source": [
    "plexamples = enumerate(dataloader)\n",
    "batch_idx, (example_data, example_targets) = next(examples)\n",
    "out = model(example_data)"
   ]
  },
  {
   "cell_type": "code",
   "execution_count": null,
   "metadata": {
    "colab": {
     "base_uri": "https://localhost:8080/",
     "height": 506
    },
    "id": "J63GI_KSPbUA",
    "outputId": "f673e56f-cbca-438d-9d18-309c08d5bc63"
   },
   "outputs": [],
   "source": [
    "fig, axs = plt.subplots(2, 5, figsize=(30, 10))\n",
    "\n",
    "for i in range(5):\n",
    "  original = np.moveaxis(example_data[i].detach().numpy(), 0, 2)\n",
    "  axs[0, i].imshow(original, interpolation = 'none')\n",
    "  axs[0, i].set_title('Original', fontsize=30)\n",
    "\n",
    "  reconstructed = np.moveaxis(out[i].detach().numpy(), 0, 2)\n",
    "  axs[1, i].imshow(reconstructed, interpolation = 'none')\n",
    "  axs[1, i].set_title('Reconstructed', fontsize=30)\n",
    "plt.tight_layout(pad=0.4, w_pad=0.5, h_pad=1.0)\n",
    "plt.savefig('imgs_test.png')"
   ]
  },
  {
   "cell_type": "code",
   "execution_count": null,
   "metadata": {
    "id": "3apkQ6PBz-bU"
   },
   "outputs": [],
   "source": []
  }
 ],
 "metadata": {
  "accelerator": "GPU",
  "colab": {
   "collapsed_sections": [],
   "name": "AE CIFAR10.ipynb",
   "provenance": []
  },
  "kernelspec": {
   "display_name": "Python 3",
   "language": "python",
   "name": "python3"
  },
  "language_info": {
   "codemirror_mode": {
    "name": "ipython",
    "version": 3
   },
   "file_extension": ".py",
   "mimetype": "text/x-python",
   "name": "python",
   "nbconvert_exporter": "python",
   "pygments_lexer": "ipython3",
   "version": "3.7.4"
  },
  "widgets": {
   "application/vnd.jupyter.widget-state+json": {
    "165e56afc84a46cbba1011571b63671b": {
     "model_module": "@jupyter-widgets/base",
     "model_name": "LayoutModel",
     "state": {
      "_model_module": "@jupyter-widgets/base",
      "_model_module_version": "1.2.0",
      "_model_name": "LayoutModel",
      "_view_count": null,
      "_view_module": "@jupyter-widgets/base",
      "_view_module_version": "1.2.0",
      "_view_name": "LayoutView",
      "align_content": null,
      "align_items": null,
      "align_self": null,
      "border": null,
      "bottom": null,
      "display": null,
      "flex": null,
      "flex_flow": null,
      "grid_area": null,
      "grid_auto_columns": null,
      "grid_auto_flow": null,
      "grid_auto_rows": null,
      "grid_column": null,
      "grid_gap": null,
      "grid_row": null,
      "grid_template_areas": null,
      "grid_template_columns": null,
      "grid_template_rows": null,
      "height": null,
      "justify_content": null,
      "justify_items": null,
      "left": null,
      "margin": null,
      "max_height": null,
      "max_width": null,
      "min_height": null,
      "min_width": null,
      "object_fit": null,
      "object_position": null,
      "order": null,
      "overflow": null,
      "overflow_x": null,
      "overflow_y": null,
      "padding": null,
      "right": null,
      "top": null,
      "visibility": null,
      "width": null
     }
    },
    "6896a0a416c34f3aa9236ae84b5321b5": {
     "model_module": "@jupyter-widgets/base",
     "model_name": "LayoutModel",
     "state": {
      "_model_module": "@jupyter-widgets/base",
      "_model_module_version": "1.2.0",
      "_model_name": "LayoutModel",
      "_view_count": null,
      "_view_module": "@jupyter-widgets/base",
      "_view_module_version": "1.2.0",
      "_view_name": "LayoutView",
      "align_content": null,
      "align_items": null,
      "align_self": null,
      "border": null,
      "bottom": null,
      "display": null,
      "flex": null,
      "flex_flow": null,
      "grid_area": null,
      "grid_auto_columns": null,
      "grid_auto_flow": null,
      "grid_auto_rows": null,
      "grid_column": null,
      "grid_gap": null,
      "grid_row": null,
      "grid_template_areas": null,
      "grid_template_columns": null,
      "grid_template_rows": null,
      "height": null,
      "justify_content": null,
      "justify_items": null,
      "left": null,
      "margin": null,
      "max_height": null,
      "max_width": null,
      "min_height": null,
      "min_width": null,
      "object_fit": null,
      "object_position": null,
      "order": null,
      "overflow": null,
      "overflow_x": null,
      "overflow_y": null,
      "padding": null,
      "right": null,
      "top": null,
      "visibility": null,
      "width": null
     }
    },
    "6ac148dae737461ab8044923c3137746": {
     "model_module": "@jupyter-widgets/controls",
     "model_name": "DescriptionStyleModel",
     "state": {
      "_model_module": "@jupyter-widgets/controls",
      "_model_module_version": "1.5.0",
      "_model_name": "DescriptionStyleModel",
      "_view_count": null,
      "_view_module": "@jupyter-widgets/base",
      "_view_module_version": "1.2.0",
      "_view_name": "StyleView",
      "description_width": ""
     }
    },
    "759aacb5b8c1415e9bf994206fe3edae": {
     "model_module": "@jupyter-widgets/controls",
     "model_name": "FloatProgressModel",
     "state": {
      "_dom_classes": [],
      "_model_module": "@jupyter-widgets/controls",
      "_model_module_version": "1.5.0",
      "_model_name": "FloatProgressModel",
      "_view_count": null,
      "_view_module": "@jupyter-widgets/controls",
      "_view_module_version": "1.5.0",
      "_view_name": "ProgressView",
      "bar_style": "success",
      "description": "",
      "description_tooltip": null,
      "layout": "IPY_MODEL_6896a0a416c34f3aa9236ae84b5321b5",
      "max": 170498071,
      "min": 0,
      "orientation": "horizontal",
      "style": "IPY_MODEL_7a6379e421db4af0aac23e35d42a7062",
      "value": 170498071
     }
    },
    "7797711621b645698805371cff79c632": {
     "model_module": "@jupyter-widgets/controls",
     "model_name": "HBoxModel",
     "state": {
      "_dom_classes": [],
      "_model_module": "@jupyter-widgets/controls",
      "_model_module_version": "1.5.0",
      "_model_name": "HBoxModel",
      "_view_count": null,
      "_view_module": "@jupyter-widgets/controls",
      "_view_module_version": "1.5.0",
      "_view_name": "HBoxView",
      "box_style": "",
      "children": [
       "IPY_MODEL_759aacb5b8c1415e9bf994206fe3edae",
       "IPY_MODEL_d24f06141a174b8f8920a2c317dcc16b"
      ],
      "layout": "IPY_MODEL_d39975a59202488893cdecdd0d0e567c"
     }
    },
    "7a6379e421db4af0aac23e35d42a7062": {
     "model_module": "@jupyter-widgets/controls",
     "model_name": "ProgressStyleModel",
     "state": {
      "_model_module": "@jupyter-widgets/controls",
      "_model_module_version": "1.5.0",
      "_model_name": "ProgressStyleModel",
      "_view_count": null,
      "_view_module": "@jupyter-widgets/base",
      "_view_module_version": "1.2.0",
      "_view_name": "StyleView",
      "bar_color": null,
      "description_width": "initial"
     }
    },
    "d24f06141a174b8f8920a2c317dcc16b": {
     "model_module": "@jupyter-widgets/controls",
     "model_name": "HTMLModel",
     "state": {
      "_dom_classes": [],
      "_model_module": "@jupyter-widgets/controls",
      "_model_module_version": "1.5.0",
      "_model_name": "HTMLModel",
      "_view_count": null,
      "_view_module": "@jupyter-widgets/controls",
      "_view_module_version": "1.5.0",
      "_view_name": "HTMLView",
      "description": "",
      "description_tooltip": null,
      "layout": "IPY_MODEL_165e56afc84a46cbba1011571b63671b",
      "placeholder": "​",
      "style": "IPY_MODEL_6ac148dae737461ab8044923c3137746",
      "value": " 170499072/? [08:30&lt;00:00, 334014.25it/s]"
     }
    },
    "d39975a59202488893cdecdd0d0e567c": {
     "model_module": "@jupyter-widgets/base",
     "model_name": "LayoutModel",
     "state": {
      "_model_module": "@jupyter-widgets/base",
      "_model_module_version": "1.2.0",
      "_model_name": "LayoutModel",
      "_view_count": null,
      "_view_module": "@jupyter-widgets/base",
      "_view_module_version": "1.2.0",
      "_view_name": "LayoutView",
      "align_content": null,
      "align_items": null,
      "align_self": null,
      "border": null,
      "bottom": null,
      "display": null,
      "flex": null,
      "flex_flow": null,
      "grid_area": null,
      "grid_auto_columns": null,
      "grid_auto_flow": null,
      "grid_auto_rows": null,
      "grid_column": null,
      "grid_gap": null,
      "grid_row": null,
      "grid_template_areas": null,
      "grid_template_columns": null,
      "grid_template_rows": null,
      "height": null,
      "justify_content": null,
      "justify_items": null,
      "left": null,
      "margin": null,
      "max_height": null,
      "max_width": null,
      "min_height": null,
      "min_width": null,
      "object_fit": null,
      "object_position": null,
      "order": null,
      "overflow": null,
      "overflow_x": null,
      "overflow_y": null,
      "padding": null,
      "right": null,
      "top": null,
      "visibility": null,
      "width": null
     }
    }
   }
  }
 },
 "nbformat": 4,
 "nbformat_minor": 1
}
